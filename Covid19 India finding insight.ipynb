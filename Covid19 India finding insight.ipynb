{
 "cells": [
  {
   "cell_type": "markdown",
   "metadata": {},
   "source": [
    "# Data"
   ]
  },
  {
   "cell_type": "markdown",
   "metadata": {},
   "source": [
    "The data is collected from the source https://www.covid19india.org/demographics.\n",
    "This dataset is routinely updated by a group of volunteers. In this notebook, we are using the data upto 22nd of April 2020.\n",
    "\n",
    "And another dataset from Kaggle's Novel Coronavirus Dataset(https://www.kaggle.com/sudalairajkumar/novel-corona-virus-2019-dataset?rvi=1).\n",
    "\n",
    "For January and February 2020 data, we are refering `Kaggle` dataset and for rest `covid19India` dataset"
   ]
  },
  {
   "cell_type": "code",
   "execution_count": 177,
   "metadata": {},
   "outputs": [],
   "source": [
    "import pandas as pd\n",
    "from IPython.display import Image\n",
    "df = pd.read_csv(\"covidIndiaData.csv\")\n",
    "df1 = pd.read_csv(\"time_series_covid_19_confirmed.csv\")"
   ]
  },
  {
   "cell_type": "code",
   "execution_count": 99,
   "metadata": {},
   "outputs": [],
   "source": [
    "nums = df1[df1['Country/Region']=='India'].sum().drop(['Province/State','Country/Region','Lat','Long'])"
   ]
  },
  {
   "cell_type": "code",
   "execution_count": null,
   "metadata": {},
   "outputs": [],
   "source": []
  },
  {
   "cell_type": "code",
   "execution_count": 2,
   "metadata": {},
   "outputs": [
    {
     "data": {
      "text/plain": [
       "Index(['Patient Number', 'State Patient Number', 'Date Announced',\n",
       "       'Estimated Onset Date', 'Age Bracket', 'Gender', 'Detected City',\n",
       "       'Detected District', 'Detected State', 'State code', 'Current Status',\n",
       "       'Notes', 'Contracted from which Patient (Suspected)', 'Nationality',\n",
       "       'Type of transmission', 'Status Change Date', 'Source_1', 'Source_2',\n",
       "       'Source_3', 'Backup Notes'],\n",
       "      dtype='object')"
      ]
     },
     "execution_count": 2,
     "metadata": {},
     "output_type": "execute_result"
    }
   ],
   "source": [
    "df.columns"
   ]
  },
  {
   "cell_type": "code",
   "execution_count": 3,
   "metadata": {},
   "outputs": [
    {
     "data": {
      "text/html": [
       "<div>\n",
       "<style scoped>\n",
       "    .dataframe tbody tr th:only-of-type {\n",
       "        vertical-align: middle;\n",
       "    }\n",
       "\n",
       "    .dataframe tbody tr th {\n",
       "        vertical-align: top;\n",
       "    }\n",
       "\n",
       "    .dataframe thead th {\n",
       "        text-align: right;\n",
       "    }\n",
       "</style>\n",
       "<table border=\"1\" class=\"dataframe\">\n",
       "  <thead>\n",
       "    <tr style=\"text-align: right;\">\n",
       "      <th></th>\n",
       "      <th>Patient Number</th>\n",
       "      <th>State Patient Number</th>\n",
       "      <th>Date Announced</th>\n",
       "      <th>Estimated Onset Date</th>\n",
       "      <th>Age Bracket</th>\n",
       "      <th>Gender</th>\n",
       "      <th>Detected City</th>\n",
       "      <th>Detected District</th>\n",
       "      <th>Detected State</th>\n",
       "      <th>State code</th>\n",
       "      <th>Current Status</th>\n",
       "      <th>Notes</th>\n",
       "      <th>Contracted from which Patient (Suspected)</th>\n",
       "      <th>Nationality</th>\n",
       "      <th>Type of transmission</th>\n",
       "      <th>Status Change Date</th>\n",
       "      <th>Source_1</th>\n",
       "      <th>Source_2</th>\n",
       "      <th>Source_3</th>\n",
       "      <th>Backup Notes</th>\n",
       "    </tr>\n",
       "  </thead>\n",
       "  <tbody>\n",
       "    <tr>\n",
       "      <th>0</th>\n",
       "      <td>1</td>\n",
       "      <td>KL-TS-P1</td>\n",
       "      <td>30/01/2020</td>\n",
       "      <td>NaN</td>\n",
       "      <td>20</td>\n",
       "      <td>F</td>\n",
       "      <td>Thrissur</td>\n",
       "      <td>Thrissur</td>\n",
       "      <td>Kerala</td>\n",
       "      <td>KL</td>\n",
       "      <td>Recovered</td>\n",
       "      <td>Travelled from Wuhan</td>\n",
       "      <td>NaN</td>\n",
       "      <td>India</td>\n",
       "      <td>Imported</td>\n",
       "      <td>14/02/2020</td>\n",
       "      <td>https://twitter.com/vijayanpinarayi/status/122...</td>\n",
       "      <td>https://weather.com/en-IN/india/news/news/2020...</td>\n",
       "      <td>NaN</td>\n",
       "      <td>Student from Wuhan</td>\n",
       "    </tr>\n",
       "    <tr>\n",
       "      <th>1</th>\n",
       "      <td>2</td>\n",
       "      <td>KL-AL-P1</td>\n",
       "      <td>02/02/2020</td>\n",
       "      <td>NaN</td>\n",
       "      <td>NaN</td>\n",
       "      <td>NaN</td>\n",
       "      <td>Alappuzha</td>\n",
       "      <td>Alappuzha</td>\n",
       "      <td>Kerala</td>\n",
       "      <td>KL</td>\n",
       "      <td>Recovered</td>\n",
       "      <td>Travelled from Wuhan</td>\n",
       "      <td>NaN</td>\n",
       "      <td>India</td>\n",
       "      <td>Imported</td>\n",
       "      <td>14/02/2020</td>\n",
       "      <td>https://www.indiatoday.in/india/story/kerala-r...</td>\n",
       "      <td>https://weather.com/en-IN/india/news/news/2020...</td>\n",
       "      <td>NaN</td>\n",
       "      <td>Student from Wuhan</td>\n",
       "    </tr>\n",
       "    <tr>\n",
       "      <th>2</th>\n",
       "      <td>3</td>\n",
       "      <td>KL-KS-P1</td>\n",
       "      <td>03/02/2020</td>\n",
       "      <td>NaN</td>\n",
       "      <td>NaN</td>\n",
       "      <td>NaN</td>\n",
       "      <td>Kasaragod</td>\n",
       "      <td>Kasaragod</td>\n",
       "      <td>Kerala</td>\n",
       "      <td>KL</td>\n",
       "      <td>Recovered</td>\n",
       "      <td>Travelled from Wuhan</td>\n",
       "      <td>NaN</td>\n",
       "      <td>India</td>\n",
       "      <td>Imported</td>\n",
       "      <td>14/02/2020</td>\n",
       "      <td>https://www.indiatoday.in/india/story/kerala-n...</td>\n",
       "      <td>https://twitter.com/ANI/status/122422148580539...</td>\n",
       "      <td>https://weather.com/en-IN/india/news/news/2020...</td>\n",
       "      <td>Student from Wuhan</td>\n",
       "    </tr>\n",
       "    <tr>\n",
       "      <th>3</th>\n",
       "      <td>4</td>\n",
       "      <td>DL-P1</td>\n",
       "      <td>02/03/2020</td>\n",
       "      <td>NaN</td>\n",
       "      <td>45</td>\n",
       "      <td>M</td>\n",
       "      <td>East Delhi (Mayur Vihar)</td>\n",
       "      <td>East Delhi</td>\n",
       "      <td>Delhi</td>\n",
       "      <td>DL</td>\n",
       "      <td>Recovered</td>\n",
       "      <td>Travelled from Austria, Italy</td>\n",
       "      <td>NaN</td>\n",
       "      <td>India</td>\n",
       "      <td>Imported</td>\n",
       "      <td>15/03/2020</td>\n",
       "      <td>https://www.indiatoday.in/india/story/not-a-ja...</td>\n",
       "      <td>https://economictimes.indiatimes.com/news/poli...</td>\n",
       "      <td>NaN</td>\n",
       "      <td>Travel history to Italy and Austria</td>\n",
       "    </tr>\n",
       "    <tr>\n",
       "      <th>4</th>\n",
       "      <td>5</td>\n",
       "      <td>TS-P1</td>\n",
       "      <td>02/03/2020</td>\n",
       "      <td>NaN</td>\n",
       "      <td>24</td>\n",
       "      <td>M</td>\n",
       "      <td>Hyderabad</td>\n",
       "      <td>Hyderabad</td>\n",
       "      <td>Telangana</td>\n",
       "      <td>TG</td>\n",
       "      <td>Recovered</td>\n",
       "      <td>Travelled from Dubai to Bangalore on 20th Feb,...</td>\n",
       "      <td>NaN</td>\n",
       "      <td>India</td>\n",
       "      <td>Imported</td>\n",
       "      <td>02/03/2020</td>\n",
       "      <td>https://www.deccanherald.com/national/south/qu...</td>\n",
       "      <td>https://www.indiatoday.in/india/story/coronavi...</td>\n",
       "      <td>https://www.thehindu.com/news/national/coronav...</td>\n",
       "      <td>Travel history to Dubai, Singapore contact</td>\n",
       "    </tr>\n",
       "  </tbody>\n",
       "</table>\n",
       "</div>"
      ],
      "text/plain": [
       "   Patient Number State Patient Number Date Announced  Estimated Onset Date  \\\n",
       "0               1             KL-TS-P1     30/01/2020                   NaN   \n",
       "1               2             KL-AL-P1     02/02/2020                   NaN   \n",
       "2               3             KL-KS-P1     03/02/2020                   NaN   \n",
       "3               4                DL-P1     02/03/2020                   NaN   \n",
       "4               5                TS-P1     02/03/2020                   NaN   \n",
       "\n",
       "  Age Bracket Gender             Detected City Detected District  \\\n",
       "0          20      F                  Thrissur          Thrissur   \n",
       "1         NaN    NaN                 Alappuzha         Alappuzha   \n",
       "2         NaN    NaN                 Kasaragod         Kasaragod   \n",
       "3          45      M  East Delhi (Mayur Vihar)        East Delhi   \n",
       "4          24      M                 Hyderabad         Hyderabad   \n",
       "\n",
       "  Detected State State code Current Status  \\\n",
       "0         Kerala         KL      Recovered   \n",
       "1         Kerala         KL      Recovered   \n",
       "2         Kerala         KL      Recovered   \n",
       "3          Delhi         DL      Recovered   \n",
       "4      Telangana         TG      Recovered   \n",
       "\n",
       "                                               Notes  \\\n",
       "0                               Travelled from Wuhan   \n",
       "1                               Travelled from Wuhan   \n",
       "2                               Travelled from Wuhan   \n",
       "3                      Travelled from Austria, Italy   \n",
       "4  Travelled from Dubai to Bangalore on 20th Feb,...   \n",
       "\n",
       "  Contracted from which Patient (Suspected) Nationality Type of transmission  \\\n",
       "0                                       NaN       India             Imported   \n",
       "1                                       NaN       India             Imported   \n",
       "2                                       NaN       India             Imported   \n",
       "3                                       NaN       India             Imported   \n",
       "4                                       NaN       India             Imported   \n",
       "\n",
       "  Status Change Date                                           Source_1  \\\n",
       "0         14/02/2020  https://twitter.com/vijayanpinarayi/status/122...   \n",
       "1         14/02/2020  https://www.indiatoday.in/india/story/kerala-r...   \n",
       "2         14/02/2020  https://www.indiatoday.in/india/story/kerala-n...   \n",
       "3         15/03/2020  https://www.indiatoday.in/india/story/not-a-ja...   \n",
       "4         02/03/2020  https://www.deccanherald.com/national/south/qu...   \n",
       "\n",
       "                                            Source_2  \\\n",
       "0  https://weather.com/en-IN/india/news/news/2020...   \n",
       "1  https://weather.com/en-IN/india/news/news/2020...   \n",
       "2  https://twitter.com/ANI/status/122422148580539...   \n",
       "3  https://economictimes.indiatimes.com/news/poli...   \n",
       "4  https://www.indiatoday.in/india/story/coronavi...   \n",
       "\n",
       "                                            Source_3  \\\n",
       "0                                                NaN   \n",
       "1                                                NaN   \n",
       "2  https://weather.com/en-IN/india/news/news/2020...   \n",
       "3                                                NaN   \n",
       "4  https://www.thehindu.com/news/national/coronav...   \n",
       "\n",
       "                                 Backup Notes  \n",
       "0                          Student from Wuhan  \n",
       "1                          Student from Wuhan  \n",
       "2                          Student from Wuhan  \n",
       "3         Travel history to Italy and Austria  \n",
       "4  Travel history to Dubai, Singapore contact  "
      ]
     },
     "execution_count": 3,
     "metadata": {},
     "output_type": "execute_result"
    }
   ],
   "source": [
    "df.head()"
   ]
  },
  {
   "cell_type": "code",
   "execution_count": 4,
   "metadata": {},
   "outputs": [],
   "source": [
    "df['Date Announced']= pd.to_datetime(df['Date Announced'], format='%d/%m/%Y')"
   ]
  },
  {
   "cell_type": "code",
   "execution_count": 5,
   "metadata": {},
   "outputs": [
    {
     "data": {
      "text/plain": [
       "array(['2020-01-30T00:00:00.000000000', '2020-02-02T00:00:00.000000000',\n",
       "       '2020-02-03T00:00:00.000000000', '2020-03-02T00:00:00.000000000',\n",
       "       '2020-03-03T00:00:00.000000000', '2020-03-04T00:00:00.000000000',\n",
       "       '2020-03-05T00:00:00.000000000', '2020-03-06T00:00:00.000000000',\n",
       "       '2020-03-07T00:00:00.000000000', '2020-03-08T00:00:00.000000000',\n",
       "       '2020-03-09T00:00:00.000000000', '2020-03-10T00:00:00.000000000',\n",
       "       '2020-03-11T00:00:00.000000000', '2020-03-12T00:00:00.000000000',\n",
       "       '2020-03-13T00:00:00.000000000', '2020-03-14T00:00:00.000000000',\n",
       "       '2020-03-15T00:00:00.000000000', '2020-03-16T00:00:00.000000000',\n",
       "       '2020-03-17T00:00:00.000000000', '2020-03-18T00:00:00.000000000',\n",
       "       '2020-03-19T00:00:00.000000000', '2020-03-20T00:00:00.000000000',\n",
       "       '2020-03-21T00:00:00.000000000', '2020-03-22T00:00:00.000000000',\n",
       "       '2020-03-23T00:00:00.000000000', '2020-03-24T00:00:00.000000000',\n",
       "       '2020-03-25T00:00:00.000000000', '2020-03-26T00:00:00.000000000',\n",
       "       '2020-03-27T00:00:00.000000000', '2020-03-28T00:00:00.000000000',\n",
       "       '2020-03-29T00:00:00.000000000', '2020-03-30T00:00:00.000000000',\n",
       "       '2020-03-31T00:00:00.000000000', '2020-04-01T00:00:00.000000000',\n",
       "       '2020-04-02T00:00:00.000000000', '2020-04-03T00:00:00.000000000',\n",
       "       '2020-04-04T00:00:00.000000000', '2020-04-05T00:00:00.000000000',\n",
       "       '2020-04-06T00:00:00.000000000', '2020-04-07T00:00:00.000000000',\n",
       "       '2020-04-08T00:00:00.000000000', '2020-04-09T00:00:00.000000000',\n",
       "       '2020-04-10T00:00:00.000000000', '2020-04-11T00:00:00.000000000',\n",
       "       '2020-04-12T00:00:00.000000000', '2020-04-13T00:00:00.000000000',\n",
       "       '2020-04-14T00:00:00.000000000', '2020-04-15T00:00:00.000000000',\n",
       "       '2020-04-16T00:00:00.000000000', '2020-04-17T00:00:00.000000000',\n",
       "       '2020-04-18T00:00:00.000000000', '2020-04-19T00:00:00.000000000',\n",
       "       '2020-04-20T00:00:00.000000000', '2020-04-21T00:00:00.000000000',\n",
       "       '2020-04-22T00:00:00.000000000'], dtype='datetime64[ns]')"
      ]
     },
     "execution_count": 5,
     "metadata": {},
     "output_type": "execute_result"
    }
   ],
   "source": [
    "df['Date Announced'].unique()"
   ]
  },
  {
   "cell_type": "code",
   "execution_count": 6,
   "metadata": {},
   "outputs": [],
   "source": [
    "patietsByDate = df.groupby(by = ['Date Announced'], axis = 0).count()['Patient Number']"
   ]
  },
  {
   "cell_type": "code",
   "execution_count": null,
   "metadata": {},
   "outputs": [],
   "source": []
  },
  {
   "cell_type": "markdown",
   "metadata": {},
   "source": [
    "# No of cases per day"
   ]
  },
  {
   "cell_type": "code",
   "execution_count": 10,
   "metadata": {},
   "outputs": [
    {
     "data": {
      "text/plain": [
       "<matplotlib.axes._subplots.AxesSubplot at 0x19f49258080>"
      ]
     },
     "execution_count": 10,
     "metadata": {},
     "output_type": "execute_result"
    },
    {
     "data": {
      "image/png": "[encoded data removed]",
      "text/plain": [
       "<Figure size 1440x720 with 1 Axes>"
      ]
     },
     "metadata": {
      "needs_background": "light"
     },
     "output_type": "display_data"
    }
   ],
   "source": [
    "%matplotlib inline\n",
    "df['Date Announced'] = df['Date Announced'].astype(\"datetime64\")\n",
    "df['Patient Number'].groupby(df['Date Announced'].dt.date).count().plot(kind=\"bar\", figsize=(20,10), \n",
    "                                                                        title =\"No of cases/day\",\n",
    "                                                                        fontsize = 10)"
   ]
  },
  {
   "cell_type": "code",
   "execution_count": 80,
   "metadata": {},
   "outputs": [],
   "source": [
    "cumsum = patietsByDate.sort_index(level='Date Announced').cumsum()"
   ]
  },
  {
   "cell_type": "code",
   "execution_count": null,
   "metadata": {},
   "outputs": [],
   "source": []
  },
  {
   "cell_type": "code",
   "execution_count": 18,
   "metadata": {},
   "outputs": [
    {
     "data": {
      "image/png": "[encoded data removed]",
      "text/plain": [
       "<Figure size 1440x360 with 1 Axes>"
      ]
     },
     "metadata": {
      "needs_background": "light"
     },
     "output_type": "display_data"
    }
   ],
   "source": [
    "%matplotlib inline\n",
    "import matplotlib.pyplot as plt\n",
    "import seaborn as sns\n",
    "plt.figure(figsize=(20,5))\n",
    "plt.plot(cumsum)\n",
    "plt.xticks(rotation=90)\n",
    "plt.ylabel('Cases')\n",
    "plt.title(\"India Coronavirus Cases\")\n",
    "plt.show()"
   ]
  },
  {
   "cell_type": "markdown",
   "metadata": {},
   "source": [
    "# Finding R-naught value in India for COVID19"
   ]
  },
  {
   "cell_type": "markdown",
   "metadata": {},
   "source": [
    "The `R-Naught` of a disease, or the `contagiousness`, represents how transmissible the disease is. An R-Naught of 2 means that for every one person with the disease, two more people are infected. A fractional R-Naught means that the epidemic is dying down. Hepatitis C and Ebola have an R-Naught of 2, HIV and SARS 4, and Measles 18, to give a few examples.\n",
    "\n",
    "\n",
    "The `R-Naught (R0)` of a disease is usually publicly declared by the World Health Organization after careful and lengthy analysis of various factor such as the infectious period, contact rate, mode of transmission, etc.\n",
    "In this article, we’ll handwrite a program that optimizes an exponential model to the data to find the R0 of the coronavirus in Python. While this is in no means a substitute for the WHO and other health agencies’ findings, it is a good way to gauge just how contagious the coronavirus is with the current lack of information.\n",
    "\n",
    "\n",
    "In this notebook, we’ll handwrite a program that optimizes an exponential model to the data to find the R0 of the coronavirus in Python. While this is in no means a substitute for the WHO and other health agencies’ findings, it is a good way to gauge just how contagious the coronavirus is with the current lack of information."
   ]
  },
  {
   "cell_type": "markdown",
   "metadata": {},
   "source": [
    "# R-naught Model"
   ]
  },
  {
   "attachments": {},
   "cell_type": "markdown",
   "metadata": {},
   "source": [
    "Our model will have a very simple equation:"
   ]
  },
  {
   "cell_type": "code",
   "execution_count": 178,
   "metadata": {},
   "outputs": [
    {
     "data": {
      "image/png": "[encoded data removed]",
      "text/plain": [
       "<IPython.core.display.Image object>"
      ]
     },
     "execution_count": 178,
     "metadata": {},
     "output_type": "execute_result"
    }
   ],
   "source": [
    "Image(filename='a.png')"
   ]
  },
  {
   "cell_type": "markdown",
   "metadata": {},
   "source": [
    "…where y is the forecasted number of cases and x is the number of days since the first confirmed case. a and b are the only two parameters that will allow changing.\n",
    "\n",
    "a controls how steep the curve will be. A smaller a value represents a less steep curve, and a higher a value represents a steeper curve.\n",
    "\n",
    "a is also the R0 value. For each number of days x after the epidemic begins, the number of new cases multiplies by a factor of a — for every one person infected on day x, a more people will be infected on day x + 1.\n",
    "This also provides another representation of what different quantities of R0 values mean."
   ]
  },
  {
   "cell_type": "markdown",
   "metadata": {},
   "source": [
    "# Fitting the Model\n",
    "To fit the model, we will implement a very simple yet effective gradient descent algorithm. \n",
    "\n",
    "The process is:\n",
    "\n",
    "1. Initialize a and b to 1 and 30, respectively.\n",
    "2. Initialize lr1 and lr2 to 0.00005 each. (lr1 and lr2 are the learning rates for a and b, respectively. More on this soon.)\n",
    "3. Take the current value of b and create two new variables for consideration, b + lr1 and b - lr2. These two will be named b1 and b2.\n",
    "4. Evaluate the mean absolute error between the model using b1 against the real data.\n",
    "5. Evaluate the mean absolute error between the model using b2 against the real data.\n",
    "6. Whichever variant of b has a lower mean absolute error becomes the new b.\n",
    "7. Repeat steps 3 through 6 for a. Since a is a more important metric than b, a is second (its value is updated last, meaning it has the 'final say').\n",
    "8. Repeat steps 3 through 7 ten thousand times.\n",
    "\n",
    "\n",
    "Summarizing the steps, this approach towards adjusting a and b takes linear steps in the right direction. It has no momentum (imagine a ball rolling down the error space - as it rolls down, it speeds up), meaning that as soon as it reaches a local minima, it stays there. While this would be a problem for neural networks that have hundreds of thousands of parameters, it works fine for only two variables: using advanced optimizers is definitely overkill in this scenario.\n",
    "Let’s get started implementing the algorithm."
   ]
  },
  {
   "cell_type": "code",
   "execution_count": 145,
   "metadata": {},
   "outputs": [],
   "source": [
    "prevDate = []\n",
    "prevDate = df1[df1['Country/Region']=='India'][['1/22/20', '1/23/20',\n",
    "                                                '1/24/20', '1/25/20', '1/26/20', '1/27/20', '1/28/20', \n",
    "                                                '1/29/20', '1/30/20', '1/31/20', '2/1/20', '2/2/20', '2/3/20', '2/4/20', '2/5/20',\n",
    "                                                '2/6/20', '2/7/20', '2/8/20', '2/9/20', '2/10/20', '2/11/20', '2/12/20',\n",
    "                                                '2/13/20', '2/14/20', '2/15/20', '2/16/20', '2/17/20',\n",
    "                                                '2/18/20', '2/19/20', '2/20/20', '2/21/20', '2/22/20', \n",
    "                                                '2/23/20', '2/24/20','2/25/20', '2/26/20', '2/27/20', \n",
    "                                                '2/28/20', '2/29/20', '3/1/20']].sum().tolist()\n",
    "\n",
    "y= prevDate + (cumsum.tolist()[:-1])\n",
    "x= range(len(y))\n",
    "\n",
    "#Obtain estimate\n",
    "import ast\n",
    "def get_error(a,b):\n",
    "    error = 0\n",
    "    for index in x:\n",
    "        error += abs((a**(x[index]-b)) - (y[index]))\n",
    "    return error / len(x)"
   ]
  },
  {
   "cell_type": "code",
   "execution_count": 147,
   "metadata": {},
   "outputs": [],
   "source": [
    "y = df1[df1['Country/Region']=='India'].sum().drop(['Province/State','Country/Region','Lat','Long']).tolist()\n",
    "x = range(len(y))"
   ]
  },
  {
   "cell_type": "code",
   "execution_count": 169,
   "metadata": {},
   "outputs": [
    {
     "name": "stdout",
     "output_type": "stream",
     "text": [
      "ITERATION 0\n",
      "{'A':1.0001, 'B':4.9999}\n",
      "Error: 2066.0071501148705 \n",
      "\n",
      "ITERATION 10000\n",
      "{'A':1.1252999999999862, 'B':4.874700000000292}\n",
      "Error: 254.17692374220857 \n",
      "\n",
      "ITERATION 20000\n",
      "{'A':1.1252999999999862, 'B':4.874700000000292}\n",
      "Error: 254.17692374220857 \n",
      "\n",
      "ITERATION 30000\n",
      "{'A':1.1252999999999862, 'B':4.874700000000292}\n",
      "Error: 254.17692374220857 \n",
      "\n",
      "ITERATION 40000\n",
      "{'A':1.1252999999999862, 'B':4.874700000000292}\n",
      "Error: 254.17692374220857 \n",
      "\n",
      "ITERATION 50000\n",
      "{'A':1.1252999999999862, 'B':4.874700000000292}\n",
      "Error: 254.17692374220857 \n",
      "\n",
      "ITERATION 60000\n",
      "{'A':1.1252999999999862, 'B':4.874700000000292}\n",
      "Error: 254.17692374220857 \n",
      "\n",
      "ITERATION 70000\n",
      "{'A':1.1252999999999862, 'B':4.874700000000292}\n",
      "Error: 254.17692374220857 \n",
      "\n",
      "ITERATION 80000\n",
      "{'A':1.1252999999999862, 'B':4.874700000000292}\n",
      "Error: 254.17692374220857 \n",
      "\n",
      "ITERATION 90000\n",
      "{'A':1.1252999999999862, 'B':4.874700000000292}\n",
      "Error: 254.17692374220857 \n",
      "\n"
     ]
    }
   ],
   "source": [
    "a = 1\n",
    "lr1 = 0.0001\n",
    "b = 5\n",
    "lr2 = 0.0001\n",
    "\n",
    "iterations = 10_0000\n",
    "\n",
    "global_mem = []\n",
    "\n",
    "for iteration in range(iterations):\n",
    "\n",
    "    b1 = b + lr2\n",
    "    b2 = b - lr2\n",
    "    if get_error(a,b1) < get_error(a,b2):\n",
    "        b = b1\n",
    "    else:\n",
    "        b = b2\n",
    "\n",
    "    a1 = a + lr1\n",
    "    a2 = a - lr1\n",
    "    if get_error(a1,b) < get_error(a2,b):\n",
    "        a = a1\n",
    "    else:\n",
    "        a = a2\n",
    "\n",
    "    global_mem.append(get_error(a,b))\n",
    "    \n",
    "    if iteration % 1_0000 == 0:\n",
    "        print('ITERATION {}'.format(iteration))\n",
    "        print(\"{'A':\"+str(a)+\", 'B':\"+str(b)+\"}\")\n",
    "        print('Error:',global_mem[-1],'\\n')"
   ]
  },
  {
   "cell_type": "code",
   "execution_count": null,
   "metadata": {},
   "outputs": [],
   "source": []
  },
  {
   "cell_type": "code",
   "execution_count": 170,
   "metadata": {},
   "outputs": [
    {
     "data": {
      "text/plain": [
       "<matplotlib.legend.Legend at 0x19f684a6eb8>"
      ]
     },
     "execution_count": 170,
     "metadata": {},
     "output_type": "execute_result"
    },
    {
     "data": {
      "image/png": "[encoded data removed]",
      "text/plain": [
       "<Figure size 1440x576 with 1 Axes>"
      ]
     },
     "metadata": {
      "needs_background": "light"
     },
     "output_type": "display_data"
    }
   ],
   "source": [
    "best_set = {'A':a, 'B':b}\n",
    "def function(x):\n",
    "    return best_set['A']**(x-best_set['B'])\n",
    "\n",
    "plt.figure(figsize=(20,8))\n",
    "plt.plot(x,y,label='Real Data')\n",
    "plt.plot(x,[function(i) for i in x],label='Exponential Model')\n",
    "plt.legend()"
   ]
  },
  {
   "cell_type": "markdown",
   "metadata": {},
   "source": [
    "### Plotting out global_mem:"
   ]
  },
  {
   "cell_type": "code",
   "execution_count": 174,
   "metadata": {},
   "outputs": [
    {
     "data": {
      "text/plain": [
       "[<matplotlib.lines.Line2D at 0x19f68f0f9e8>]"
      ]
     },
     "execution_count": 174,
     "metadata": {},
     "output_type": "execute_result"
    },
    {
     "data": {
      "image/png": "[encoded data removed]",
      "text/plain": [
       "<Figure size 1440x432 with 1 Axes>"
      ]
     },
     "metadata": {
      "needs_background": "light"
     },
     "output_type": "display_data"
    }
   ],
   "source": [
    "import matplotlib.pyplot as plt\n",
    "plt.figure(figsize=(20,6))\n",
    "plt.plot(global_mem[:2000])"
   ]
  },
  {
   "cell_type": "markdown",
   "metadata": {},
   "source": [
    "The model slowly makes progress and then begins plummeting exponentially until it reaches a convergence of about 254 at around the 1250 iteration. It's incredible that a completely linear model - that is, simply choosing whether to go up or go down by a fixed amount - can have such a curved path towards convergence!"
   ]
  },
  {
   "cell_type": "markdown",
   "metadata": {},
   "source": [
    "# Results"
   ]
  },
  {
   "cell_type": "markdown",
   "metadata": {},
   "source": [
    "The last iteration has the following parameters.\n",
    "\n",
    "```\n",
    "ITERATION 90000\n",
    "{'A':1.1252999999999862, 'B':4.874700000000292}\n",
    "Error: 254.17692374220857 \n",
    "```\n",
    "\n",
    "This puts the R0 value at around 1.125 in India. This means that if you are living in India, tomorrow, 1.125 people will infected for every currently infected person today."
   ]
  }
 ],
 "metadata": {
  "kernelspec": {
   "display_name": "Python 3",
   "language": "python",
   "name": "python3"
  },
  "varInspector": {
   "cols": {
    "lenName": 16,
    "lenType": 16,
    "lenVar": 40
   },
   "kernels_config": {
    "python": {
     "delete_cmd_postfix": "",
     "delete_cmd_prefix": "del ",
     "library": "var_list.py",
     "varRefreshCmd": "print(var_dic_list())"
    },
    "r": {
     "delete_cmd_postfix": ") ",
     "delete_cmd_prefix": "rm(",
     "library": "var_list.r",
     "varRefreshCmd": "cat(var_dic_list()) "
    }
   },
   "types_to_exclude": [
    "module",
    "function",
    "builtin_function_or_method",
    "instance",
    "_Feature"
   ],
   "window_display": false
  }
 },
 "nbformat": 4,
 "nbformat_minor": 2
}
